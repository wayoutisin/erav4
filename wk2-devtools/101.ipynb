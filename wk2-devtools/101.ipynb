{
 "cells": [
  {
   "cell_type": "code",
   "execution_count": 19,
   "id": "207d0b6c",
   "metadata": {},
   "outputs": [],
   "source": [
    "def myFunc(a: int, b: int):\n",
    "    return(a+b)"
   ]
  },
  {
   "cell_type": "code",
   "execution_count": 20,
   "id": "da9bfd08",
   "metadata": {},
   "outputs": [
    {
     "data": {
      "text/plain": [
       "'vinodjoshi'"
      ]
     },
     "execution_count": 20,
     "metadata": {},
     "output_type": "execute_result"
    }
   ],
   "source": [
    "myFunc('vinod','joshi')"
   ]
  },
  {
   "cell_type": "code",
   "execution_count": 21,
   "id": "5de69ac6",
   "metadata": {},
   "outputs": [
    {
     "data": {
      "text/plain": [
       "'VinodJoshi'"
      ]
     },
     "execution_count": 21,
     "metadata": {},
     "output_type": "execute_result"
    }
   ],
   "source": [
    "fullname = lambda a, b: a+b\n",
    "fullname(\"Vinod\", \"Joshi\")"
   ]
  },
  {
   "cell_type": "code",
   "execution_count": 27,
   "id": "62a0a60d",
   "metadata": {},
   "outputs": [
    {
     "name": "stdout",
     "output_type": "stream",
     "text": [
      "4576560768\n",
      "4576560768\n",
      "200\n",
      "60\n",
      "Rectangle(length=10, width=20)\n"
     ]
    }
   ],
   "source": [
    "class Rectangle:\n",
    "    def __init__(self, length, width):\n",
    "        self.length = length\n",
    "        self.width = width\n",
    "        print(id(self))\n",
    "\n",
    "    def area(self):\n",
    "        return self.length * self.width\n",
    "\n",
    "    def perimeter(self):\n",
    "        return 2 * (self.length + self.width)\n",
    "    \n",
    "    def __repr__(self):\n",
    "        return f\"Rectangle(length={self.length}, width={self.width})\"\n",
    "\n",
    "r1 = Rectangle(10, 20)\n",
    "print(id(r1))\n",
    "\n",
    "\n",
    "print(r1.area())\n",
    "print(r1.perimeter())\n",
    "print(r1)\n",
    "\n"
   ]
  },
  {
   "cell_type": "code",
   "execution_count": 28,
   "id": "f7200cf8",
   "metadata": {},
   "outputs": [
    {
     "data": {
      "text/plain": [
       "['__class__',\n",
       " '__delattr__',\n",
       " '__dir__',\n",
       " '__doc__',\n",
       " '__eq__',\n",
       " '__format__',\n",
       " '__ge__',\n",
       " '__getattribute__',\n",
       " '__getstate__',\n",
       " '__gt__',\n",
       " '__hash__',\n",
       " '__init__',\n",
       " '__init_subclass__',\n",
       " '__le__',\n",
       " '__lt__',\n",
       " '__ne__',\n",
       " '__new__',\n",
       " '__reduce__',\n",
       " '__reduce_ex__',\n",
       " '__repr__',\n",
       " '__setattr__',\n",
       " '__sizeof__',\n",
       " '__str__',\n",
       " '__subclasshook__']"
      ]
     },
     "execution_count": 28,
     "metadata": {},
     "output_type": "execute_result"
    }
   ],
   "source": [
    "dir(object)"
   ]
  }
 ],
 "metadata": {
  "kernelspec": {
   "display_name": "word2vec",
   "language": "python",
   "name": "python3"
  },
  "language_info": {
   "codemirror_mode": {
    "name": "ipython",
    "version": 3
   },
   "file_extension": ".py",
   "mimetype": "text/x-python",
   "name": "python",
   "nbconvert_exporter": "python",
   "pygments_lexer": "ipython3",
   "version": "3.12.1"
  }
 },
 "nbformat": 4,
 "nbformat_minor": 5
}
